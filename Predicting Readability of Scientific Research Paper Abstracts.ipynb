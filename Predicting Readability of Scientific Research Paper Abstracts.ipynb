{
 "cells": [
  {
   "cell_type": "markdown",
   "id": "b873b156-fd18-4dc4-b378-bccd47a514af",
   "metadata": {},
   "source": [
    "# Predicting Readability of Scientific Research Paper Abstracts"
   ]
  },
  {
   "cell_type": "markdown",
   "id": "daf4c548-6f1c-4f0a-9bd7-361aeea3f0eb",
   "metadata": {},
   "source": [
    "## By: Srihari Raman"
   ]
  },
  {
   "cell_type": "markdown",
   "id": "86c1bb1a-8e53-435e-9017-8bee6119dc67",
   "metadata": {},
   "source": [
    "### About the Project"
   ]
  },
  {
   "cell_type": "markdown",
   "id": "01598bb1-b0b3-492a-98d9-6ceaca1de3d1",
   "metadata": {},
   "source": [
    "This project was completed as part of the CS4120 Natural Language Processing class at Northeastern University"
   ]
  }
 ],
 "metadata": {
  "kernelspec": {
   "display_name": "Python 3 (ipykernel)",
   "language": "python",
   "name": "python3"
  },
  "language_info": {
   "codemirror_mode": {
    "name": "ipython",
    "version": 3
   },
   "file_extension": ".py",
   "mimetype": "text/x-python",
   "name": "python",
   "nbconvert_exporter": "python",
   "pygments_lexer": "ipython3",
   "version": "3.9.18"
  }
 },
 "nbformat": 4,
 "nbformat_minor": 5
}

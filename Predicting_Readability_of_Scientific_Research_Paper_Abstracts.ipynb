{
 "cells": [
  {
   "cell_type": "markdown",
   "id": "b873b156-fd18-4dc4-b378-bccd47a514af",
   "metadata": {
    "id": "b873b156-fd18-4dc4-b378-bccd47a514af"
   },
   "source": [
    "# Predicting Readability of Scientific Research Paper Abstracts"
   ]
  },
  {
   "cell_type": "markdown",
   "id": "daf4c548-6f1c-4f0a-9bd7-361aeea3f0eb",
   "metadata": {
    "id": "daf4c548-6f1c-4f0a-9bd7-361aeea3f0eb"
   },
   "source": [
    "## By: Srihari Raman"
   ]
  },
  {
   "cell_type": "markdown",
   "id": "86c1bb1a-8e53-435e-9017-8bee6119dc67",
   "metadata": {
    "id": "86c1bb1a-8e53-435e-9017-8bee6119dc67"
   },
   "source": [
    "### About the Project"
   ]
  },
  {
   "cell_type": "markdown",
   "id": "f50c7929-a1c0-466b-8500-8493e75e5097",
   "metadata": {
    "id": "f50c7929-a1c0-466b-8500-8493e75e5097"
   },
   "source": [
    "Ever wondered how to make your life easier while reading research papers? Well, step 1 is to know whether or not the paper will be readable! In today's day and age, reading things is tedious, especially when it comes to research papers. Some are worded with heavy jargon, whereas the others are simply not interesting enough. In an effort to build an NLP model to assist with that issue, I evaluate some of the various models that are available in the ML world today."
   ]
  },
  {
   "cell_type": "markdown",
   "id": "61a19bb0-c140-4324-909b-9b6336b78e43",
   "metadata": {
    "id": "61a19bb0-c140-4324-909b-9b6336b78e43"
   },
   "source": [
    "**For a detailed outline, please see the Project Proposal!**"
   ]
  },
  {
   "cell_type": "markdown",
   "id": "1bb4bf23-ac49-499e-8bdc-bf8e235fd908",
   "metadata": {},
   "source": [
    "## Project Setup"
   ]
  },
  {
   "cell_type": "code",
   "execution_count": 43,
   "id": "5cfcfefe-3ff9-4ef4-a761-33a438946e41",
   "metadata": {},
   "source": [
    "# !pip install textstat\n",
    "# !pip install asyncio\n",
    "# !pip install aiohttp\n",
    "# !pip install tqdm\n",
    "# ! pip install xgboost"
   ],
   "outputs": []
  },
  {
   "cell_type": "code",
   "execution_count": 44,
   "id": "108b8d84-a282-4f01-8a81-9282cad841ba",
   "metadata": {},
   "source": [
    "# Imports\n",
    "import os\n",
    "import utility.arxiv_utility as axu\n",
    "import utility.preprocess_utility as ppu\n",
    "import asyncio\n",
    "import aiohttp\n",
    "from tqdm import tqdm_notebook\n",
    "import pickle\n",
    "\n",
    "import seaborn as sns\n",
    "import matplotlib.pyplot as plt\n",
    "import pandas as pd\n",
    "import polars as pl\n",
    "\n",
    "from gensim.models import Word2Vec\n",
    "import nltk\n",
    "from nltk.corpus import stopwords\n",
    "import numpy as np\n",
    "from nltk.tokenize import word_tokenize\n",
    "\n",
    "from sklearn.model_selection import train_test_split\n",
    "from sklearn.linear_model import LinearRegression\n",
    "from sklearn.metrics import mean_squared_error, mean_absolute_error, r2_score\n",
    "import xgboost as xgb\n",
    "\n",
    "from transformers import BertTokenizer\n",
    "import tensorflow as tf\n",
    "import tensorflow as tf\n",
    "from tensorflow.keras.layers import Dense\n",
    "from transformers import TFDistilBertModel, DistilBertTokenizer\n",
    "\n",
    "nltk.download('stopwords')\n",
    "nltk.download('punkt')\n",
    "\n",
    "%autoawait asyncio"
   ],
   "outputs": []
  },
  {
   "cell_type": "markdown",
   "id": "722d53c2-dbe4-4223-a283-396f9af09cdd",
   "metadata": {
    "id": "722d53c2-dbe4-4223-a283-396f9af09cdd"
   },
   "source": [
    "### Building the Development Dataset"
   ]
  },
  {
   "cell_type": "markdown",
   "id": "9e5c87ce-e773-498c-be7d-1fa2de55514e",
   "metadata": {
    "id": "9e5c87ce-e773-498c-be7d-1fa2de55514e"
   },
   "source": [
    "#### Note:"
   ]
  },
  {
   "cell_type": "markdown",
   "id": "8405a1b9-876c-43f3-a34a-10171e272e93",
   "metadata": {
    "id": "8405a1b9-876c-43f3-a34a-10171e272e93"
   },
   "source": [
    "To ensure randomness in the lexical levels of the abstracts collected, the queries are limited to broad topics related to 4 main subject matters—science, english, math, and humanities. I understand that these subjects may naturally exclude other subject matters from consideration, but for the general purpose of this project, I take those considerations into account."
   ]
  },
  {
   "cell_type": "code",
   "execution_count": 45,
   "id": "f798fab5-9b7c-4765-9eb0-6c3e9f406f69",
   "metadata": {
    "id": "f798fab5-9b7c-4765-9eb0-6c3e9f406f69"
   },
   "source": [
    "# Main function to create df, run asynch --> need to create this in order to run asynch with Jupyter\n",
    "async def data_collection():\n",
    "    query = [\"science\", \"english\", \"math\", \"humanities\"]\n",
    "    queries_list, abstracts = await axu.get_abstracts(query, max_results=2000)\n",
    "    df = axu.batch_add_to_df(abstracts, queries_list)\n",
    "    return df"
   ],
   "outputs": []
  },
  {
   "cell_type": "code",
   "execution_count": 46,
   "id": "aa53ccf0-b693-4a65-b870-ea75683ab86e",
   "metadata": {},
   "source": [
    "# Load/create training data\n",
    "if os.path.exists(\"./data/arxiv_fulldata.csv\"):\n",
    "    print(\"Training dataframe found.\")\n",
    "    df = pd.read_csv(\"./data/arxiv_fulldata.csv\")\n",
    "\n",
    "else:\n",
    "    print(\"Creating training data.\")\n",
    "    df = await data_collection()\n",
    "    df.to_csv(\"./data/arxiv_fulldata.csv\")"
   ],
   "outputs": []
  },
  {
   "cell_type": "markdown",
   "id": "145c028a-5dae-421f-83d8-96d77ba4fd91",
   "metadata": {
    "id": "145c028a-5dae-421f-83d8-96d77ba4fd91"
   },
   "source": [
    "### EDA - Development Set"
   ]
  },
  {
   "cell_type": "code",
   "execution_count": 47,
   "id": "a65322c1-bc58-4b3f-8043-ba90bb4ce9ce",
   "metadata": {
    "colab": {
     "base_uri": "https://localhost:8080/",
     "height": 206
    },
    "id": "a65322c1-bc58-4b3f-8043-ba90bb4ce9ce",
    "outputId": "5b511a96-3519-461d-e50a-6910a403ca22"
   },
   "source": [
    "df.head()"
   ],
   "outputs": []
  },
  {
   "cell_type": "code",
   "execution_count": 48,
   "id": "412afe3e-c875-4859-9ee8-0c9f598fc374",
   "metadata": {
    "colab": {
     "base_uri": "https://localhost:8080/"
    },
    "id": "412afe3e-c875-4859-9ee8-0c9f598fc374",
    "outputId": "69743dc3-c39b-44ee-cb4c-de5b6aced0cd",
    "scrolled": true
   },
   "source": [
    "df.dtypes"
   ],
   "outputs": []
  },
  {
   "cell_type": "code",
   "execution_count": 49,
   "id": "0ea08d49-e03d-46e4-b4ad-c9ba210ddd8c",
   "metadata": {
    "colab": {
     "base_uri": "https://localhost:8080/"
    },
    "id": "0ea08d49-e03d-46e4-b4ad-c9ba210ddd8c",
    "outputId": "7f86dcfa-95b8-41b4-be34-b0dfbe8431dd"
   },
   "source": [
    "df.columns"
   ],
   "outputs": []
  },
  {
   "cell_type": "code",
   "execution_count": 89,
   "id": "fef3da1e-377e-4842-96da-0b162a813ed7",
   "metadata": {},
   "source": [
    "# Check for class imbalance in training data and the average readability scores\n",
    "avg_readability = df.groupby('query')['flesch_reading_ease'].mean().reset_index()\n",
    "fig, axes = plt.subplots(1, 2, figsize=(15, 6))\n",
    "\n",
    "# Bar plot for average readability scores\n",
    "sns.barplot(ax=axes[0], x='query', y='flesch_reading_ease', data=avg_readability, palette='viridis')\n",
    "axes[0].set_title('Average Readability Score by Query')\n",
    "axes[0].set_xlabel('Query')\n",
    "axes[0].set_ylabel('Average Flesch Reading Ease Score')\n",
    "# axes[0].tick_params(axis='x', rotation=45)\n",
    "\n",
    "# Count plot for the number of abstracts per query\n",
    "sns.countplot(ax=axes[1], x='query', data=df, palette='viridis')\n",
    "axes[1].set_title('Count of Abstracts by Query')\n",
    "axes[1].set_xlabel('Query')\n",
    "axes[1].set_ylabel('Count')\n",
    "axes[1].tick_params(axis='x', rotation=90)\n",
    "\n",
    "plt.tight_layout()\n",
    "plt.savefig(\"eda_dev.png\")\n",
    "plt.show()"
   ],
   "outputs": []
  },
  {
   "cell_type": "code",
   "execution_count": 90,
   "id": "fdbdc319-5ae1-435c-bfd9-85c31f7cf3ee",
   "metadata": {
    "colab": {
     "base_uri": "https://localhost:8080/",
     "height": 699
    },
    "id": "fdbdc319-5ae1-435c-bfd9-85c31f7cf3ee",
    "outputId": "cd853f13-2d17-4b1e-ac58-cf96faa09caa"
   },
   "source": [
    "# Check for correlations between numerical columns\n",
    "numerical_columns = ['num_words', 'num_sentences', 'num_characters', 'flesch_reading_ease']\n",
    "df_numerical = df[numerical_columns]\n",
    "correlation_matrix = df_numerical.corr()\n",
    "\n",
    "plt.figure(figsize=(10, 8))\n",
    "sns.heatmap(correlation_matrix, annot=True, cmap='coolwarm', linewidths=0.5)\n",
    "plt.title('Correlation Heatmap')\n",
    "plt.savefig(\"heatmap_corr.png\")\n",
    "plt.show()"
   ],
   "outputs": []
  },
  {
   "cell_type": "markdown",
   "id": "68a07f4f-3681-4300-9e76-585a5ba62ad3",
   "metadata": {},
   "source": [
    "### Building the Testing Dataset"
   ]
  },
  {
   "cell_type": "code",
   "execution_count": 52,
   "id": "62e251ba-0907-496e-a86f-fc108d8a7c26",
   "metadata": {},
   "source": [
    "test_queries = [\n",
    "    'astrophysics', 'neuroscience',\n",
    "    'topology', 'cryptography',\n",
    "    'postmodern literature', 'sociolinguistics',\n",
    "    'cultural anthropology', 'philosophy'\n",
    "]"
   ],
   "outputs": []
  },
  {
   "cell_type": "code",
   "execution_count": 96,
   "id": "0f895cc6-b652-4c85-96ff-4297fde43f96",
   "metadata": {},
   "source": [
    "test_df.shape"
   ],
   "outputs": []
  },
  {
   "cell_type": "code",
   "execution_count": 53,
   "id": "9ea2d92d-880f-411c-86af-48967b577d82",
   "metadata": {},
   "source": [
    "async def test_data_collection():\n",
    "    queries_list, abstracts = await axu.get_abstracts(test_queries, max_results=500)\n",
    "    test_df = axu.batch_add_to_df(abstracts, queries_list)\n",
    "    return test_df"
   ],
   "outputs": []
  },
  {
   "cell_type": "code",
   "execution_count": 54,
   "id": "7c3b8944-d3aa-4087-9e20-249edb14c4e4",
   "metadata": {},
   "source": [
    "# Load/create training data\n",
    "if os.path.exists(\"./data/arxiv_test.csv\"):\n",
    "    print(\"Test dataframe found.\")\n",
    "    test_df = pd.read_csv(\"./data/arxiv_test.csv\")\n",
    "\n",
    "else:\n",
    "    print(\"Creating training data.\")\n",
    "    test_df = await test_data_collection()\n",
    "    test_df.to_csv(\"./data/arxiv_test.csv\")"
   ],
   "outputs": []
  },
  {
   "cell_type": "code",
   "execution_count": 55,
   "id": "d14d0695-9f83-4c93-b9ed-6a05699c9082",
   "metadata": {},
   "source": [
    "test_df.head()"
   ],
   "outputs": []
  },
  {
   "cell_type": "markdown",
   "id": "a91f3471-2fdf-4723-a73a-b0b79030a431",
   "metadata": {},
   "source": [
    "### EDA - Training Set"
   ]
  },
  {
   "cell_type": "code",
   "execution_count": 91,
   "id": "da986484-6a98-43c0-bf62-228e76b7fec3",
   "metadata": {},
   "source": [
    "fig, axes = plt.subplots(1, 2, figsize=(15, 6))\n",
    "\n",
    "# Bar plot for average readability scores\n",
    "sns.barplot(ax=axes[0], x='query', y='flesch_reading_ease', data=avg_readability, palette='viridis')\n",
    "axes[0].set_title('Average Readability Score by Query')\n",
    "axes[0].set_xlabel('Query')\n",
    "axes[0].set_ylabel('Average Flesch Reading Ease Score')\n",
    "# axes[0].tick_params(axis='x', rotation=45)\n",
    "\n",
    "# Count plot for the number of abstracts per query\n",
    "sns.countplot(ax=axes[1], x='query', data=test_df, palette='viridis')\n",
    "axes[1].set_title('Count of Abstracts by Query')\n",
    "axes[1].set_xlabel('Query')\n",
    "axes[1].set_ylabel('Count')\n",
    "axes[1].tick_params(axis='x', rotation=90)\n",
    "\n",
    "plt.tight_layout()\n",
    "plt.savefig(\"eda_test.png\")\n",
    "plt.show()"
   ],
   "outputs": []
  },
  {
   "cell_type": "markdown",
   "id": "e418bbbe-877a-4ba0-ad4f-c3715a02bf7d",
   "metadata": {
    "id": "e418bbbe-877a-4ba0-ad4f-c3715a02bf7d"
   },
   "source": [
    "### Feature Engineering - Development & Training Sets"
   ]
  },
  {
   "cell_type": "markdown",
   "id": "a70260f2-ad5c-4f2b-854c-27774ec969d3",
   "metadata": {
    "id": "a70260f2-ad5c-4f2b-854c-27774ec969d3"
   },
   "source": [
    "In the feature engineering process, Polars (a faster development to Pandas) was used for efficient processing. Polars utilizes lazy execution and parallelization, which allows for all the cores in the CPU to be utilized for faster data processing."
   ]
  },
  {
   "cell_type": "markdown",
   "id": "043f58de-8b64-489e-b9c9-984463d32e7c",
   "metadata": {},
   "source": [
    "I wrote an accessory script imported as 'ppu' that defines all the preprocessing steps. However, I've also outlined them below:"
   ]
  },
  {
   "cell_type": "markdown",
   "id": "116c2a67-0f19-4e43-b382-d3bcd01c93bc",
   "metadata": {},
   "source": [
    "- Lower case folding\n",
    "- Work tokenization utilizing NLTK\n",
    "- Stop word removal using NLTK stopwords\n",
    "- Generating Word Embeddings with Gensim Word2Vec"
   ]
  },
  {
   "cell_type": "markdown",
   "id": "c7e82bc2-e420-4ca6-937b-deb51eff8359",
   "metadata": {},
   "source": [
    "**See the 'preprocessing_utility.py' file for additional information!**"
   ]
  },
  {
   "cell_type": "code",
   "execution_count": 57,
   "id": "9b3eccf8-3ffb-41b5-b857-e45f908d0ca0",
   "metadata": {},
   "source": [
    "%%time\n",
    "df = ppu.preprocess_dataframe(df)"
   ],
   "outputs": []
  },
  {
   "cell_type": "code",
   "execution_count": 58,
   "id": "16138ab0-4a8b-4b89-8383-6fa33284df46",
   "metadata": {},
   "source": [
    "%%time\n",
    "test_df = ppu.preprocess_dataframe(test_df)"
   ],
   "outputs": []
  },
  {
   "cell_type": "markdown",
   "id": "3fb07702-8201-417a-ad5c-640e9456a1b7",
   "metadata": {},
   "source": [
    "## Model Development"
   ]
  },
  {
   "cell_type": "markdown",
   "id": "9005bb14-df14-4dba-9aaf-c5016c2f5bcc",
   "metadata": {},
   "source": [
    "In this section, I develop 3 different types of models to predict the Flesch Reading Ease score, which is a metric designed to calculate how difficult it would be to read an abstract. Both the linear regression and the Gradient Boosted Random Forest Regressor models take in the number of words, number of sentences, number of characters, and word embeddings as parameters. The fine-tuned BERT model, however, only takes in the embeddings. This is was intentionally done to test the prediction power of the state-of-the-art DistilBERT model compared to a the traditional regressor models."
   ]
  },
  {
   "cell_type": "code",
   "execution_count": 59,
   "id": "1cf3ef80-8786-4520-89eb-73ed985117c9",
   "metadata": {},
   "source": [
    "df.head()"
   ],
   "outputs": []
  },
  {
   "cell_type": "code",
   "execution_count": 60,
   "id": "cbae68fd-ff8c-43c2-9e91-8029505db5f9",
   "metadata": {},
   "source": [
    "test_df.head()"
   ],
   "outputs": []
  },
  {
   "cell_type": "markdown",
   "id": "20ce58e0-214a-4210-bf3f-8d443f8a5309",
   "metadata": {
    "id": "20ce58e0-214a-4210-bf3f-8d443f8a5309"
   },
   "source": [
    "### Baseline Model - Linear Regression with Embeddings"
   ]
  },
  {
   "cell_type": "markdown",
   "id": "2aafe360-db98-460a-abe0-ef2c37b6836b",
   "metadata": {
    "id": "2aafe360-db98-460a-abe0-ef2c37b6836b"
   },
   "source": [
    "The baseline model used for comparative analysis is a linear regression model that aims to predict the readability score of the abstracts."
   ]
  },
  {
   "cell_type": "code",
   "execution_count": 61,
   "id": "c56d611a-2337-4205-9ac5-a157b7f61f96",
   "metadata": {
    "id": "c56d611a-2337-4205-9ac5-a157b7f61f96"
   },
   "source": [
    "# Extract the relevant numerical columns and the target column\n",
    "numerical_columns = ['num_words', 'num_sentences', 'num_characters']\n",
    "target_column = 'flesch_reading_ease'\n",
    "\n",
    "# Extract numerical features and target column\n",
    "X_numerical = df[numerical_columns]\n",
    "y = df[target_column]"
   ],
   "outputs": []
  },
  {
   "cell_type": "code",
   "execution_count": 62,
   "id": "35e6d2d0-8cc3-44f7-bba3-74eb9b402006",
   "metadata": {
    "id": "35e6d2d0-8cc3-44f7-bba3-74eb9b402006"
   },
   "source": [
    "# Extract embeddings and flatten into DataFrame columns --> given by ChatGPT\n",
    "embeddings = np.array(df['embedding'].tolist())\n",
    "embedding_df = pd.DataFrame(embeddings)\n",
    "\n",
    "X = pd.concat([X_numerical.reset_index(drop=True), embedding_df.reset_index(drop=True)], axis=1)\n",
    "X.columns = X.columns.astype(str)"
   ],
   "outputs": []
  },
  {
   "cell_type": "code",
   "execution_count": 63,
   "id": "b8a2ffe8-96a9-45a5-ae16-7231575cfcb4",
   "metadata": {
    "id": "b8a2ffe8-96a9-45a5-ae16-7231575cfcb4"
   },
   "source": [
    "# Split the data into training and testing sets\n",
    "X_train, X_test, y_train, y_test = train_test_split(X, y, test_size=0.2, random_state=42)"
   ],
   "outputs": []
  },
  {
   "cell_type": "code",
   "execution_count": 64,
   "id": "e8737ddb-ed27-47b6-aff4-5f36bfbdb4d9",
   "metadata": {
    "id": "e8737ddb-ed27-47b6-aff4-5f36bfbdb4d9"
   },
   "source": [
    "# Initialize and train the linear regression model\n",
    "lr_model = LinearRegression()\n",
    "lr_model.fit(X_train, y_train)\n",
    "\n",
    "# Predict the target on the test set\n",
    "y_pred = lr_model.predict(X_test)"
   ],
   "outputs": []
  },
  {
   "cell_type": "code",
   "execution_count": 65,
   "id": "e6cec7ef-3149-4ddc-81d6-03b510ab9b0d",
   "metadata": {
    "colab": {
     "base_uri": "https://localhost:8080/"
    },
    "id": "e6cec7ef-3149-4ddc-81d6-03b510ab9b0d",
    "outputId": "7964019a-f496-4ee5-93fc-ecd3bcc4af55"
   },
   "source": [
    "# Evaluate on test split just for performance bench --> to be evaluated on actual test set later\n",
    "mse_lg = mean_squared_error(y_test, y_pred)\n",
    "mae_lg = mean_absolute_error(y_test, y_pred)\n",
    "r2_lg = r2_score(y_test, y_pred)\n",
    "\n",
    "print(f'Baseline Linear Regression Model Performance:')\n",
    "print(f'Mean Squared Error: {mse_lg}')\n",
    "print(f'Mean Absolute Error: {mae_lg}')\n",
    "print(f'R-squared: {r2_lg}')"
   ],
   "outputs": []
  },
  {
   "cell_type": "markdown",
   "id": "rKf6gJXsGs0k",
   "metadata": {
    "id": "rKf6gJXsGs0k"
   },
   "source": [
    "### Gradient Boosted Random Forest Regressor (XGBoost)"
   ]
  },
  {
   "cell_type": "code",
   "execution_count": 66,
   "id": "6eXzREeyG-I5",
   "metadata": {
    "id": "6eXzREeyG-I5"
   },
   "source": [
    "# Train test split\n",
    "X_train, X_test, y_train, y_test = train_test_split(X, y, test_size=0.2, random_state=55)"
   ],
   "outputs": []
  },
  {
   "cell_type": "code",
   "execution_count": 67,
   "id": "_W8yU3b8G2S1",
   "metadata": {
    "colab": {
     "base_uri": "https://localhost:8080/",
     "height": 0
    },
    "id": "_W8yU3b8G2S1",
    "outputId": "cd43dfa6-6497-445a-8b1c-77ae9c5eb19b"
   },
   "source": [
    "# Train XGBoost model\n",
    "xgb_model = xgb.XGBRegressor(objective='reg:squarederror', n_estimators=100, learning_rate=0.1, max_depth=5)\n",
    "xgb_model.fit(X_train, y_train)"
   ],
   "outputs": []
  },
  {
   "cell_type": "code",
   "execution_count": 68,
   "id": "7vGW9IkIHHJv",
   "metadata": {
    "id": "7vGW9IkIHHJv"
   },
   "source": [
    "# Predict on same split as LR model\n",
    "y_pred_xgb = xgb_model.predict(X_test)"
   ],
   "outputs": []
  },
  {
   "cell_type": "code",
   "execution_count": 69,
   "id": "_dqShr3dHJ1n",
   "metadata": {
    "colab": {
     "base_uri": "https://localhost:8080/"
    },
    "id": "_dqShr3dHJ1n",
    "outputId": "bf285581-fa49-4c55-a55e-2e758053d417"
   },
   "source": [
    "# Evaluate on same test split as LR model\n",
    "mse_xgb = mean_squared_error(y_test, y_pred_xgb)\n",
    "mae_xgb = mean_absolute_error(y_test, y_pred_xgb)\n",
    "r2_xgb = r2_score(y_test, y_pred_xgb)\n",
    "\n",
    "print(f'Advanced XGBoost RFR Model Performance: \\n')\n",
    "print(f'Mean Squared Error: {mse_xgb}')\n",
    "print(f'Mean Absolute Error: {mae_xgb}')\n",
    "print(f'R-squared: {r2_xgb}')"
   ],
   "outputs": []
  },
  {
   "cell_type": "markdown",
   "id": "w_0d_2GSHncs",
   "metadata": {
    "id": "w_0d_2GSHncs"
   },
   "source": [
    "### Pre-trained DistilBERT Model With Regression NN Layer"
   ]
  },
  {
   "cell_type": "code",
   "execution_count": 70,
   "id": "ceuXgdyFJHBg",
   "metadata": {
    "colab": {
     "base_uri": "https://localhost:8080/",
     "height": 113,
     "referenced_widgets": [
      "54e37f7153224c68869b8e50d68b1cd9",
      "7052e42f456b468fa4f3f01bf0c85784",
      "e53fdf0043f74fdeb8cbad21478485bb",
      "62c99ff131c2442191e5cbd43130316c",
      "6da990a206f34487a438cbe74474043e",
      "077b85dad690485e9157354f98497e7c",
      "1057bba0204c40a48fac27d5e171c9ba",
      "803c5dfccb5f4f6aaf2e62145402cd35",
      "d0032de52c5c4fd0807776c044045a03",
      "91de7e7af00c4f83ac1269402a020476",
      "6e2fc924a2b74521875343c826786b31",
      "387496e8625a449cb08bc7a05b2f75c3",
      "904998e280f24792a140d76141381af3",
      "3f120544401a4eea9a92c55ca37af70b",
      "e1ed42de287942f4a40569e5539bae3a",
      "004718716bd44bc38b381f85b1880c76",
      "a9b6daf7db5b4d1982b1d6d8520ff1ed",
      "32c41ebae8b24e9ba98f7946ab5d464d",
      "982a1bd1cfc748e68504b9d19b8cd13a",
      "01c365db8d3b41e1a55f85f91921ab50",
      "e66c7187adbf4ad899bfb242a730b04c",
      "9fa3ad6362e74acf9dd537faa7256b47",
      "f6018b8514714a79a9c377bf612ecd0b",
      "80a8b22e618d459d9fcc3a05bd9a84aa",
      "21e4e10444e84b33a2c4b8e0a95950aa",
      "5047912cd9e845c998ef6f2895a97942",
      "40588f0e8d734f838d0a794a914d1fa9",
      "660c7aa6b96f4836805fdd415ce91b59",
      "13c5fd7deab746cdb88468fb702673d8",
      "e4aca7104c9f47b5880cc4c3fe8cbb46",
      "be21afbdd0294949b1f67cf08639d6c9",
      "a3d3a85abe0a4ecc8026f28ae278b5ac",
      "90965dd2b120452999b63a3091e64a3d"
     ]
    },
    "id": "ceuXgdyFJHBg",
    "outputId": "838476c9-144c-4630-a4e1-76427a6c8ba1"
   },
   "source": [
    "# Tokenize abstracts\n",
    "tokenizer = DistilBertTokenizer.from_pretrained('distilbert-base-uncased')"
   ],
   "outputs": []
  },
  {
   "cell_type": "code",
   "execution_count": null,
   "id": "bFE3ijk1JbXV",
   "metadata": {
    "id": "bFE3ijk1JbXV"
   },
   "source": [
    "def tokenize_function(text):\n",
    "  \"\"\"Creates a tokenizer function for each text, to be applied to the DF.\n",
    "\n",
    "    Args:\n",
    "      text (str): The text to create the tokenizer for\n",
    "\n",
    "    Returns:\n",
    "      tokenizer (ts.BertTokenizer): A Bert tokenizer object\n",
    "    \"\"\"\n",
    "  return tokenizer(text, padding='max_length', truncation=True, max_length=512)\n",
    "\n",
    "# Apply tokenizer to the dataset\n",
    "df['inputs'] = df['abstract'].apply(tokenize_function)"
   ],
   "outputs": []
  },
  {
   "cell_type": "code",
   "execution_count": 72,
   "id": "GSEmRo0lKGEn",
   "metadata": {
    "id": "GSEmRo0lKGEn"
   },
   "source": [
    "def create_dataset(df):\n",
    "    \"\"\"\n",
    "    Creates a tensor flow dataset to be passed to the BERT model\n",
    "\n",
    "    Args:\n",
    "    dataframe (pd.Dataframe): The dataframe to convert\n",
    "\n",
    "    Returns:\n",
    "    tf.data.Dataset.from_tensor_slices: TF dataset with tensor slices for easy training\n",
    "    \"\"\"\n",
    "    input_ids = []\n",
    "    attention_masks = []\n",
    "\n",
    "    for inputs in df['inputs']:\n",
    "        input_ids.append(inputs['input_ids'])\n",
    "        attention_masks.append(inputs['attention_mask'])\n",
    "\n",
    "    inputs = {\n",
    "        'input_ids': tf.constant(input_ids),\n",
    "        'attention_mask': tf.constant(attention_masks)\n",
    "    }\n",
    "    labels = tf.constant(df['flesch_reading_ease'].values)\n",
    "    return tf.data.Dataset.from_tensor_slices((inputs, labels))"
   ],
   "outputs": []
  },
  {
   "cell_type": "code",
   "execution_count": 73,
   "id": "ad3U23hJK2PC",
   "metadata": {
    "id": "ad3U23hJK2PC"
   },
   "source": [
    "class DistilBertRegressor(tf.keras.Model):\n",
    "    def __init__(self, distilbert_model_name):\n",
    "        super(DistilBertRegressor, self).__init__()\n",
    "        self.distilbert = TFDistilBertModel.from_pretrained(distilbert_model_name)\n",
    "        self.regressor = tf.keras.layers.Dense(1, activation='linear')\n",
    "\n",
    "    # This is the function (defined by TF for NNs) that uses forward pass to get the prediction outputs\n",
    "    def call(self, inputs):\n",
    "        # Gets the BERT last layer output after passing in tokens\n",
    "        distilbert_output = self.distilbert(inputs)\n",
    "\n",
    "        # This gets hidden state values of the CLS token, which represents the entire sequence\n",
    "        hidden_state = distilbert_output.last_hidden_state[:, 0, :]\n",
    "\n",
    "        # Return the regression output after passing CLS token inputs through Dense NN\n",
    "        return self.regressor(hidden_state)"
   ],
   "outputs": []
  },
  {
   "cell_type": "code",
   "execution_count": 74,
   "id": "E85-onxKKYbb",
   "metadata": {
    "id": "E85-onxKKYbb"
   },
   "source": [
    "train_df, val_df = train_test_split(df, test_size=0.2, random_state=42)\n",
    "train_dataset = create_dataset(train_df)\n",
    "val_dataset = create_dataset(val_df)"
   ],
   "outputs": []
  },
  {
   "cell_type": "code",
   "execution_count": 75,
   "id": "1ec07fe3-0bb2-40fa-b107-a61ee34d35cb",
   "metadata": {},
   "source": [
    "# Define the R2 score class to get r2 score for each epoch --> GPT assisted me with this\n",
    "class R2Score(tf.keras.metrics.Metric):\n",
    "    def __init__(self, name='r2_score', **kwargs):\n",
    "        super(R2Score, self).__init__(name=name, **kwargs)\n",
    "        self.sse = self.add_weight(name='sse', initializer='zeros')\n",
    "        self.sst = self.add_weight(name='sst', initializer='zeros')\n",
    "\n",
    "    def update_state(self, y_true, y_pred, sample_weight=None):\n",
    "        y_true = tf.cast(y_true, tf.float32)\n",
    "        y_pred = tf.cast(y_pred, tf.float32)\n",
    "        self.sse.assign_add(tf.reduce_sum(tf.square(y_true - y_pred)))\n",
    "        self.sst.assign_add(tf.reduce_sum(tf.square(y_true - tf.reduce_mean(y_true))))\n",
    "\n",
    "    def result(self):\n",
    "        return 1 - self.sse / (self.sst + tf.keras.backend.epsilon())\n",
    "\n",
    "    def reset_state(self):\n",
    "        self.sse.assign(0.0)\n",
    "        self.sst.assign(0.0)"
   ],
   "outputs": []
  },
  {
   "cell_type": "code",
   "execution_count": 76,
   "id": "089cf1ea-25bd-46a9-aded-43f561e30c7f",
   "metadata": {},
   "source": [
    "# Avoiding training if weights file exists, else train the model\n",
    "if os.path.exists('model_weights.h5'):\n",
    "    print(\"Model weights file found.\")\n",
    "\n",
    "    # To avoid subclass error, needed to forward pass dummy data\n",
    "    bert_model = DistilBertRegressor('distilbert-base-uncased')\n",
    "    dummy_inputs = tokenizer([\"This is a dummy sentence.\"], return_tensors='tf', padding=True, truncation=True, max_length=128)\n",
    "\n",
    "    # Forward pass the dummy data\n",
    "    bert_model(dummy_inputs)  # Forward pass to create the variables\n",
    "    bert_model.load_weights('model_weights.h5')\n",
    "    \n",
    "    # Load the result dictionary also if it exists\n",
    "    if os.path.exists('result_dict.pkl'):\n",
    "        with open('result_dict.pkl', 'rb') as f:\n",
    "            result_dict = pickle.load(f)\n",
    "        print(\"Result dictionary loaded successfully.\")\n",
    "\n",
    "else:\n",
    "    print(\"Model weights file not found. Training the model.\")\n",
    "\n",
    "    # Convert the datasets to TensorFlow datasets and create train and val datasets\n",
    "    BATCH_SIZE = 8\n",
    "    train_dataset = train_dataset.batch(BATCH_SIZE).shuffle(100)\n",
    "    val_dataset = val_dataset.batch(BATCH_SIZE)\n",
    "    \n",
    "    bert_model = DistilBertRegressor('distilbert-base-uncased')\n",
    "    bert_model.compile(optimizer='adam', loss='mean_squared_error', metrics=[tf.keras.metrics.MeanAbsoluteError(), tf.keras.metrics.MeanSquaredError(), R2Score()])    # Train the model on the small subset\n",
    "    results = bert_model.fit(train_dataset, validation_data=val_dataset, epochs=3)\n",
    "    \n",
    "    # Save the model's weights\n",
    "    bert_model.save_weights('model_weights.h5')\n",
    "    \n",
    "    # Save the training history result_dict\n",
    "    result_dict = results.history\n",
    "    with open('result_dict.pkl', 'wb') as f:\n",
    "        pickle.dump(result_dict, f)\n",
    "        print(\"Results dictionary serialized.\")"
   ],
   "outputs": []
  },
  {
   "cell_type": "code",
   "execution_count": 77,
   "id": "f4f60a83-1903-470e-bccf-e5b2cf7622dd",
   "metadata": {},
   "source": [
    "print(\"Validation Loss:\", result_dict['loss'])\n",
    "print(\"Validation Mean Absolute Error (MAE):\", result_dict['mean_absolute_error'])\n",
    "print(\"Validation Mean Squared Error (MSE):\", result_dict['mean_squared_error'])\n",
    "print(\"Validation R-squared:\", result_dict['r2_score'])"
   ],
   "outputs": []
  },
  {
   "cell_type": "code",
   "execution_count": 92,
   "id": "4d839c16-7cdf-4afb-be36-681d629ff10e",
   "metadata": {},
   "source": [
    "# Explore the per-epoch statistics in 2x2 plot for MAE, Loss, MSE, and R2\n",
    "epochs = range(1, len(result_dict['val_loss']) + 1)\n",
    "fig, axes = plt.subplots(2, 2, figsize=(15, 10))\n",
    "\n",
    "# Validation Loss\n",
    "sns.lineplot(ax=axes[0, 0], x=epochs, y=result_dict['val_loss'], marker='o')\n",
    "axes[0, 0].set_title('Validation Loss')\n",
    "axes[0, 0].set_xlabel('Epoch')\n",
    "axes[0, 0].set_ylabel('Loss')\n",
    "\n",
    "# Validation MAE\n",
    "sns.lineplot(ax=axes[0, 1], x=epochs, y=result_dict['val_mean_absolute_error'], marker='o')\n",
    "axes[0, 1].set_title('Validation MAE')\n",
    "axes[0, 1].set_xlabel('Epoch')\n",
    "axes[0, 1].set_ylabel('MAE')\n",
    "\n",
    "# Validation MSE\n",
    "sns.lineplot(ax=axes[1, 0], x=epochs, y=result_dict['val_mean_squared_error'], marker='o')\n",
    "axes[1, 0].set_title('Validation MSE')\n",
    "axes[1, 0].set_xlabel('Epoch')\n",
    "axes[1, 0].set_ylabel('MSE')\n",
    "\n",
    "# Validation R-squared\n",
    "sns.lineplot(ax=axes[1, 1], x=epochs, y=result_dict['val_r2_score'], marker='o')\n",
    "axes[1, 1].set_title('Validation R-squared')\n",
    "axes[1, 1].set_xlabel('Epoch')\n",
    "axes[1, 1].set_ylabel('R-squared')\n",
    "\n",
    "plt.tight_layout()\n",
    "plt.savefig(\"bert_per_epoch_fig.png\")\n",
    "plt.show()"
   ],
   "outputs": []
  },
  {
   "cell_type": "markdown",
   "id": "7cb96725-b68a-4c00-a9af-f306b4a8404f",
   "metadata": {},
   "source": [
    "## Model Analysis"
   ]
  },
  {
   "cell_type": "markdown",
   "id": "2fb8ed9d-48e3-4db3-8ae4-c2caf27cb4d6",
   "metadata": {},
   "source": [
    "### Run Models on Testing Data"
   ]
  },
  {
   "cell_type": "markdown",
   "id": "bb6301c7-c59b-414e-ad44-bf073281eb62",
   "metadata": {},
   "source": [
    "#### Baseline LR Model"
   ]
  },
  {
   "cell_type": "code",
   "execution_count": 82,
   "id": "fe494282-d0fb-4fd1-a738-360e86fec0b5",
   "metadata": {},
   "source": [
    "X_test_embeddings = np.vstack(test_df['embedding'].values)\n",
    "X_test_other_features = test_df[['num_words', 'num_sentences', 'num_characters']].values\n",
    "\n",
    "# Concatenate embeddings and other features\n",
    "X_test = np.hstack((X_test_embeddings, X_test_other_features))\n",
    "y_true = test_df['flesch_reading_ease'].values"
   ],
   "outputs": []
  },
  {
   "cell_type": "code",
   "execution_count": 83,
   "id": "a99a3173-b22b-4a62-a296-e309b99cda69",
   "metadata": {},
   "source": [
    "# Make predictions\n",
    "linear_predictions = lr_model.predict(X_test)"
   ],
   "outputs": []
  },
  {
   "cell_type": "code",
   "execution_count": 84,
   "id": "dce75614-2667-4b7f-8bd7-a646f66a5167",
   "metadata": {},
   "source": [
    "# Linear Regression model evaluation\n",
    "mse_linear = mean_squared_error(y_true, linear_predictions)\n",
    "mae_linear = mean_absolute_error(y_true, linear_predictions)\n",
    "r2_linear = r2_score(y_true, linear_predictions)\n",
    "\n",
    "print(f'Baseline Linear Regression Model Performance: \\n')\n",
    "print(f'Mean Squared Error: {mse_linear}')\n",
    "print(f'Mean Absolute Error: {mae_linear}')\n",
    "print(f'R-squared: {r2_linear}')"
   ],
   "outputs": []
  },
  {
   "cell_type": "markdown",
   "id": "ed6994e7-f17e-4429-9fdc-46dbc743879d",
   "metadata": {},
   "source": [
    "#### XGB Model"
   ]
  },
  {
   "cell_type": "code",
   "execution_count": 85,
   "id": "4d7dbfe6-4d34-418b-b2c1-85f4b05a2034",
   "metadata": {},
   "source": [
    "xgb_predictions = xgb_model.predict(X_test)"
   ],
   "outputs": []
  },
  {
   "cell_type": "code",
   "execution_count": 86,
   "id": "c423d0c1-948f-49cd-a401-7ada317a0268",
   "metadata": {},
   "source": [
    "# XGB model evaluation\n",
    "mse_xgb = mean_squared_error(y_true, xgb_predictions)\n",
    "mae_xgb = mean_absolute_error(y_true, xgb_predictions)\n",
    "r2_xgb = r2_score(y_true, xgb_predictions)\n",
    "\n",
    "print(f'Advanced XGBoost RFR Model Performance: \\n')\n",
    "print(f'Mean Squared Error: {mse_xgb}')\n",
    "print(f'Mean Absolute Error: {mae_xgb}')\n",
    "print(f'R-squared: {r2_xgb}')"
   ],
   "outputs": []
  },
  {
   "cell_type": "markdown",
   "id": "318a438a-f310-4b53-b9a1-b3bbcb597091",
   "metadata": {},
   "source": [
    "#### Fine-Tuned BERT Model"
   ]
  },
  {
   "cell_type": "code",
   "execution_count": 87,
   "id": "6a9d560b-48b3-4b72-a4f3-c6faa6f3729b",
   "metadata": {},
   "source": [
    "# Predict with BERT --> Takes 4-9 minutes\n",
    "inputs = tokenizer(test_df['abstract'].tolist(), return_tensors='tf', padding=True, truncation=True, max_length=128)\n",
    "distilbert_predictions = bert_model.predict(dict(inputs)).flatten()"
   ],
   "outputs": []
  },
  {
   "cell_type": "code",
   "execution_count": 88,
   "id": "db59b38f-a03a-4874-9047-3a4ed892900e",
   "metadata": {},
   "source": [
    "# BERT model evaluation\n",
    "mse_bert = mean_squared_error(y_true, distilbert_predictions)\n",
    "mae_bert = mean_absolute_error(y_true, distilbert_predictions)\n",
    "r2_bert = r2_score(y_true, distilbert_predictions)\n",
    "\n",
    "print(f'Fine-tuned DistilBERT Model Performance: \\n')\n",
    "print(f'Mean Squared Error: {mse_bert}')\n",
    "print(f'Mean Absolute Error: {mae_bert}')\n",
    "print(f'R-squared: {r2_bert}')"
   ],
   "outputs": []
  },
  {
   "cell_type": "markdown",
   "id": "79c65ed3-8699-49fc-87ac-9d8e646c141a",
   "metadata": {},
   "source": [
    "#### Save Performance Data"
   ]
  },
  {
   "cell_type": "code",
   "execution_count": 79,
   "id": "f324abd4-622f-4f65-8d62-b6dbe3678ebe",
   "metadata": {},
   "source": [
    "# Load/create metrics dataframe for offline use\n",
    "if os.path.exists(\"./data/model_evaluation.csv\"):\n",
    "    print(\"Metrics dataframe found.\")\n",
    "    metrics_df = pd.read_csv(\"./data/model_evaluation.csv\")\n",
    "\n",
    "else:\n",
    "    print(\"Storing metrics data.\")\n",
    "\n",
    "    metrics_df = pd.DataFrame({\n",
    "        'Model': ['DistilBERT Regressor', 'Linear Regression', 'Random Forest'],\n",
    "        'MSE': [mse_bert, mse_linear, mse_xgb],\n",
    "        'MAE': [mae_bert, mae_linear, mae_xgb],\n",
    "        'R-squared': [r2_bert, r2_linear, r2_xgb]\n",
    "    })\n",
    "\n",
    "    metrics_df.to_csv(\"./data/model_evaluation.csv\")"
   ],
   "outputs": []
  },
  {
   "cell_type": "code",
   "execution_count": 99,
   "id": "1485ce33-ac3f-4fc8-9ee0-bd9067a931dc",
   "metadata": {},
   "source": [
    "metrics_df"
   ],
   "outputs": []
  },
  {
   "cell_type": "markdown",
   "id": "2e3da589-0dcf-453b-b8f1-cd3692c713dc",
   "metadata": {},
   "source": [
    "### Model Comparisons + Analysis"
   ]
  },
  {
   "cell_type": "code",
   "execution_count": 93,
   "id": "9595f2d3-221a-48dc-84b0-49a11be83c13",
   "metadata": {},
   "source": [
    "# Calculate and plot residuals\n",
    "residuals_distilbert = y_true - distilbert_predictions\n",
    "residuals_linear = y_true - linear_predictions\n",
    "residuals_xgb = y_true - xgb_predictions"
   ],
   "outputs": []
  },
  {
   "cell_type": "code",
   "execution_count": 94,
   "id": "7819b82c-4c76-4ae9-9371-6efffb2a943d",
   "metadata": {},
   "source": [
    "# Residual plot\n",
    "fig, axes = plt.subplots(2, 2, figsize=(15, 15))\n",
    "\n",
    "# DistilBERT Regressor\n",
    "sns.scatterplot(x=distilbert_predictions, y=residuals_distilbert, ax=axes[0, 0])\n",
    "axes[0, 0].set_title('DistilBERT Regressor Residuals')\n",
    "axes[0, 0].set_xlabel('Predicted Values')\n",
    "axes[0, 0].set_ylabel('Residuals')\n",
    "axes[0, 0].axhline(0, color='r', linestyle='--')\n",
    "\n",
    "# Linear Regression\n",
    "sns.scatterplot(x=linear_predictions, y=residuals_linear, ax=axes[0, 1])\n",
    "axes[0, 1].set_title('Linear Regression Residuals')\n",
    "axes[0, 1].set_xlabel('Predicted Values')\n",
    "axes[0, 1].set_ylabel('Residuals')\n",
    "axes[0, 1].axhline(0, color='r', linestyle='--')\n",
    "\n",
    "# Random Forest\n",
    "sns.scatterplot(x=xgb_predictions, y=residuals_xgb, ax=axes[1, 0])\n",
    "axes[1, 0].set_title('Random Forest Residuals')\n",
    "axes[1, 0].set_xlabel('Predicted Values')\n",
    "axes[1, 0].set_ylabel('Residuals')\n",
    "axes[1, 0].axhline(0, color='r', linestyle='--')\n",
    "\n",
    "axes[1, 1].axis('off')\n",
    "\n",
    "plt.tight_layout()\n",
    "plt.savefig(\"residual_plots.png\")\n",
    "plt.show()"
   ],
   "outputs": []
  },
  {
   "cell_type": "code",
   "execution_count": 95,
   "id": "bb9f6ad9-67cb-42a7-bb4d-28cac48a1765",
   "metadata": {},
   "source": [
    "fig, axes = plt.subplots(1, 2, figsize=(15, 6))\n",
    "\n",
    "# Plotting Mean Squared Error (MSE)\n",
    "sns.barplot(x='Model', y='MSE', data=metrics_df, ax=axes[0])\n",
    "axes[0].set_title('Logarithmic Mean Squared Error (MSE) Comparison')\n",
    "axes[0].set_ylabel('Log MSE')\n",
    "axes[0].set_yscale('log')\n",
    "\n",
    "# Adding values above bars --> given by GPT\n",
    "for p in axes[0].patches:\n",
    "    axes[0].annotate(format(p.get_height(), '.2e'), \n",
    "                        (p.get_x() + p.get_width() / 2., p.get_height()), \n",
    "                        ha = 'center', va = 'center', \n",
    "                        xytext = (0, 10), \n",
    "                         textcoords = 'offset points')\n",
    "\n",
    "# Plotting Mean Absolute Error (MAE)\n",
    "sns.barplot(x='Model', y='MAE', data=metrics_df, ax=axes[1])\n",
    "axes[1].set_title('Logarithmic Mean Absolute Error (MAE) Comparison')\n",
    "axes[1].set_ylabel('Log MAE')\n",
    "axes[1].set_yscale('log')\n",
    "\n",
    "# Adding values above bars --> given by GPT\n",
    "for p in axes[1].patches:\n",
    "    axes[1].annotate(format(p.get_height(), '.2e'), \n",
    "                        (p.get_x() + p.get_width() / 2., p.get_height()), \n",
    "                        ha = 'center', va = 'center', \n",
    "                        xytext = (0, 10), \n",
    "                         textcoords = 'offset points')\n",
    "\n",
    "plt.tight_layout()\n",
    "plt.savefig(\"performance.png\")\n",
    "plt.show()"
   ],
   "outputs": []
  },
  {
   "cell_type": "markdown",
   "id": "af8f4eea-4778-47f9-96d6-2927322f4c1b",
   "metadata": {
    "id": "af8f4eea-4778-47f9-96d6-2927322f4c1b"
   },
   "source": [
    "### Acknowledgments"
   ]
  },
  {
   "cell_type": "markdown",
   "id": "01598bb1-b0b3-492a-98d9-6ceaca1de3d1",
   "metadata": {
    "id": "01598bb1-b0b3-492a-98d9-6ceaca1de3d1"
   },
   "source": [
    "*This project was completed as part of the CS4120 Natural Language Processing class at Northeastern University.*"
   ]
  },
  {
   "cell_type": "markdown",
   "id": "326bef0c-35c7-4361-8ef0-082304d80d2f",
   "metadata": {
    "id": "326bef0c-35c7-4361-8ef0-082304d80d2f"
   },
   "source": [
    "*A sincere thanks to ArXiv's open-source research forum for providing the abstracts as data for this project.*"
   ]
  },
  {
   "cell_type": "markdown",
   "id": "805cbf82-ee93-4f3d-8c82-8d39fc1131da",
   "metadata": {},
   "source": [
    "As a part of the development of this project, ChatGPT was used extensively to assist with error debugging, explanation of BERT tokenizers and sub-model creation, as well as visualization development."
   ]
  }
 ],
 "metadata": {
  "colab": {
   "collapsed_sections": [
    "rKf6gJXsGs0k"
   ],
   "provenance": []
  },
  "kernelspec": {
   "display_name": "Python 3 (ipykernel)",
   "language": "python",
   "name": "python3"
  },
  "language_info": {
   "codemirror_mode": {
    "name": "ipython",
    "version": 3
   },
   "file_extension": ".py",
   "mimetype": "text/x-python",
   "name": "python",
   "nbconvert_exporter": "python",
   "pygments_lexer": "ipython3",
   "version": "3.9.18"
  },
  "widgets": {
   "application/vnd.jupyter.widget-state+json": {
    "004718716bd44bc38b381f85b1880c76": {
     "model_module": "@jupyter-widgets/base",
     "model_module_version": "1.2.0",
     "model_name": "LayoutModel",
     "state": {
      "_model_module": "@jupyter-widgets/base",
      "_model_module_version": "1.2.0",
      "_model_name": "LayoutModel",
      "_view_count": null,
      "_view_module": "@jupyter-widgets/base",
      "_view_module_version": "1.2.0",
      "_view_name": "LayoutView",
      "align_content": null,
      "align_items": null,
      "align_self": null,
      "border": null,
      "bottom": null,
      "display": null,
      "flex": null,
      "flex_flow": null,
      "grid_area": null,
      "grid_auto_columns": null,
      "grid_auto_flow": null,
      "grid_auto_rows": null,
      "grid_column": null,
      "grid_gap": null,
      "grid_row": null,
      "grid_template_areas": null,
      "grid_template_columns": null,
      "grid_template_rows": null,
      "height": null,
      "justify_content": null,
      "justify_items": null,
      "left": null,
      "margin": null,
      "max_height": null,
      "max_width": null,
      "min_height": null,
      "min_width": null,
      "object_fit": null,
      "object_position": null,
      "order": null,
      "overflow": null,
      "overflow_x": null,
      "overflow_y": null,
      "padding": null,
      "right": null,
      "top": null,
      "visibility": null,
      "width": null
     }
    },
    "01c365db8d3b41e1a55f85f91921ab50": {
     "model_module": "@jupyter-widgets/controls",
     "model_module_version": "1.5.0",
     "model_name": "ProgressStyleModel",
     "state": {
      "_model_module": "@jupyter-widgets/controls",
      "_model_module_version": "1.5.0",
      "_model_name": "ProgressStyleModel",
      "_view_count": null,
      "_view_module": "@jupyter-widgets/base",
      "_view_module_version": "1.2.0",
      "_view_name": "StyleView",
      "bar_color": null,
      "description_width": ""
     }
    },
    "077b85dad690485e9157354f98497e7c": {
     "model_module": "@jupyter-widgets/base",
     "model_module_version": "1.2.0",
     "model_name": "LayoutModel",
     "state": {
      "_model_module": "@jupyter-widgets/base",
      "_model_module_version": "1.2.0",
      "_model_name": "LayoutModel",
      "_view_count": null,
      "_view_module": "@jupyter-widgets/base",
      "_view_module_version": "1.2.0",
      "_view_name": "LayoutView",
      "align_content": null,
      "align_items": null,
      "align_self": null,
      "border": null,
      "bottom": null,
      "display": null,
      "flex": null,
      "flex_flow": null,
      "grid_area": null,
      "grid_auto_columns": null,
      "grid_auto_flow": null,
      "grid_auto_rows": null,
      "grid_column": null,
      "grid_gap": null,
      "grid_row": null,
      "grid_template_areas": null,
      "grid_template_columns": null,
      "grid_template_rows": null,
      "height": null,
      "justify_content": null,
      "justify_items": null,
      "left": null,
      "margin": null,
      "max_height": null,
      "max_width": null,
      "min_height": null,
      "min_width": null,
      "object_fit": null,
      "object_position": null,
      "order": null,
      "overflow": null,
      "overflow_x": null,
      "overflow_y": null,
      "padding": null,
      "right": null,
      "top": null,
      "visibility": null,
      "width": null
     }
    },
    "1057bba0204c40a48fac27d5e171c9ba": {
     "model_module": "@jupyter-widgets/controls",
     "model_module_version": "1.5.0",
     "model_name": "DescriptionStyleModel",
     "state": {
      "_model_module": "@jupyter-widgets/controls",
      "_model_module_version": "1.5.0",
      "_model_name": "DescriptionStyleModel",
      "_view_count": null,
      "_view_module": "@jupyter-widgets/base",
      "_view_module_version": "1.2.0",
      "_view_name": "StyleView",
      "description_width": ""
     }
    },
    "13c5fd7deab746cdb88468fb702673d8": {
     "model_module": "@jupyter-widgets/controls",
     "model_module_version": "1.5.0",
     "model_name": "DescriptionStyleModel",
     "state": {
      "_model_module": "@jupyter-widgets/controls",
      "_model_module_version": "1.5.0",
      "_model_name": "DescriptionStyleModel",
      "_view_count": null,
      "_view_module": "@jupyter-widgets/base",
      "_view_module_version": "1.2.0",
      "_view_name": "StyleView",
      "description_width": ""
     }
    },
    "21e4e10444e84b33a2c4b8e0a95950aa": {
     "model_module": "@jupyter-widgets/controls",
     "model_module_version": "1.5.0",
     "model_name": "FloatProgressModel",
     "state": {
      "_dom_classes": [],
      "_model_module": "@jupyter-widgets/controls",
      "_model_module_version": "1.5.0",
      "_model_name": "FloatProgressModel",
      "_view_count": null,
      "_view_module": "@jupyter-widgets/controls",
      "_view_module_version": "1.5.0",
      "_view_name": "ProgressView",
      "bar_style": "success",
      "description": "",
      "description_tooltip": null,
      "layout": "IPY_MODEL_e4aca7104c9f47b5880cc4c3fe8cbb46",
      "max": 466062,
      "min": 0,
      "orientation": "horizontal",
      "style": "IPY_MODEL_be21afbdd0294949b1f67cf08639d6c9",
      "value": 466062
     }
    },
    "32c41ebae8b24e9ba98f7946ab5d464d": {
     "model_module": "@jupyter-widgets/controls",
     "model_module_version": "1.5.0",
     "model_name": "DescriptionStyleModel",
     "state": {
      "_model_module": "@jupyter-widgets/controls",
      "_model_module_version": "1.5.0",
      "_model_name": "DescriptionStyleModel",
      "_view_count": null,
      "_view_module": "@jupyter-widgets/base",
      "_view_module_version": "1.2.0",
      "_view_name": "StyleView",
      "description_width": ""
     }
    },
    "387496e8625a449cb08bc7a05b2f75c3": {
     "model_module": "@jupyter-widgets/controls",
     "model_module_version": "1.5.0",
     "model_name": "HBoxModel",
     "state": {
      "_dom_classes": [],
      "_model_module": "@jupyter-widgets/controls",
      "_model_module_version": "1.5.0",
      "_model_name": "HBoxModel",
      "_view_count": null,
      "_view_module": "@jupyter-widgets/controls",
      "_view_module_version": "1.5.0",
      "_view_name": "HBoxView",
      "box_style": "",
      "children": [
       "IPY_MODEL_904998e280f24792a140d76141381af3",
       "IPY_MODEL_3f120544401a4eea9a92c55ca37af70b",
       "IPY_MODEL_e1ed42de287942f4a40569e5539bae3a"
      ],
      "layout": "IPY_MODEL_004718716bd44bc38b381f85b1880c76"
     }
    },
    "3f120544401a4eea9a92c55ca37af70b": {
     "model_module": "@jupyter-widgets/controls",
     "model_module_version": "1.5.0",
     "model_name": "FloatProgressModel",
     "state": {
      "_dom_classes": [],
      "_model_module": "@jupyter-widgets/controls",
      "_model_module_version": "1.5.0",
      "_model_name": "FloatProgressModel",
      "_view_count": null,
      "_view_module": "@jupyter-widgets/controls",
      "_view_module_version": "1.5.0",
      "_view_name": "ProgressView",
      "bar_style": "success",
      "description": "",
      "description_tooltip": null,
      "layout": "IPY_MODEL_982a1bd1cfc748e68504b9d19b8cd13a",
      "max": 231508,
      "min": 0,
      "orientation": "horizontal",
      "style": "IPY_MODEL_01c365db8d3b41e1a55f85f91921ab50",
      "value": 231508
     }
    },
    "40588f0e8d734f838d0a794a914d1fa9": {
     "model_module": "@jupyter-widgets/base",
     "model_module_version": "1.2.0",
     "model_name": "LayoutModel",
     "state": {
      "_model_module": "@jupyter-widgets/base",
      "_model_module_version": "1.2.0",
      "_model_name": "LayoutModel",
      "_view_count": null,
      "_view_module": "@jupyter-widgets/base",
      "_view_module_version": "1.2.0",
      "_view_name": "LayoutView",
      "align_content": null,
      "align_items": null,
      "align_self": null,
      "border": null,
      "bottom": null,
      "display": null,
      "flex": null,
      "flex_flow": null,
      "grid_area": null,
      "grid_auto_columns": null,
      "grid_auto_flow": null,
      "grid_auto_rows": null,
      "grid_column": null,
      "grid_gap": null,
      "grid_row": null,
      "grid_template_areas": null,
      "grid_template_columns": null,
      "grid_template_rows": null,
      "height": null,
      "justify_content": null,
      "justify_items": null,
      "left": null,
      "margin": null,
      "max_height": null,
      "max_width": null,
      "min_height": null,
      "min_width": null,
      "object_fit": null,
      "object_position": null,
      "order": null,
      "overflow": null,
      "overflow_x": null,
      "overflow_y": null,
      "padding": null,
      "right": null,
      "top": null,
      "visibility": null,
      "width": null
     }
    },
    "5047912cd9e845c998ef6f2895a97942": {
     "model_module": "@jupyter-widgets/controls",
     "model_module_version": "1.5.0",
     "model_name": "HTMLModel",
     "state": {
      "_dom_classes": [],
      "_model_module": "@jupyter-widgets/controls",
      "_model_module_version": "1.5.0",
      "_model_name": "HTMLModel",
      "_view_count": null,
      "_view_module": "@jupyter-widgets/controls",
      "_view_module_version": "1.5.0",
      "_view_name": "HTMLView",
      "description": "",
      "description_tooltip": null,
      "layout": "IPY_MODEL_a3d3a85abe0a4ecc8026f28ae278b5ac",
      "placeholder": "​",
      "style": "IPY_MODEL_90965dd2b120452999b63a3091e64a3d",
      "value": " 466k/466k [00:00&lt;00:00, 12.4MB/s]"
     }
    },
    "54e37f7153224c68869b8e50d68b1cd9": {
     "model_module": "@jupyter-widgets/controls",
     "model_module_version": "1.5.0",
     "model_name": "HBoxModel",
     "state": {
      "_dom_classes": [],
      "_model_module": "@jupyter-widgets/controls",
      "_model_module_version": "1.5.0",
      "_model_name": "HBoxModel",
      "_view_count": null,
      "_view_module": "@jupyter-widgets/controls",
      "_view_module_version": "1.5.0",
      "_view_name": "HBoxView",
      "box_style": "",
      "children": [
       "IPY_MODEL_7052e42f456b468fa4f3f01bf0c85784",
       "IPY_MODEL_e53fdf0043f74fdeb8cbad21478485bb",
       "IPY_MODEL_62c99ff131c2442191e5cbd43130316c"
      ],
      "layout": "IPY_MODEL_6da990a206f34487a438cbe74474043e"
     }
    },
    "62c99ff131c2442191e5cbd43130316c": {
     "model_module": "@jupyter-widgets/controls",
     "model_module_version": "1.5.0",
     "model_name": "HTMLModel",
     "state": {
      "_dom_classes": [],
      "_model_module": "@jupyter-widgets/controls",
      "_model_module_version": "1.5.0",
      "_model_name": "HTMLModel",
      "_view_count": null,
      "_view_module": "@jupyter-widgets/controls",
      "_view_module_version": "1.5.0",
      "_view_name": "HTMLView",
      "description": "",
      "description_tooltip": null,
      "layout": "IPY_MODEL_91de7e7af00c4f83ac1269402a020476",
      "placeholder": "​",
      "style": "IPY_MODEL_6e2fc924a2b74521875343c826786b31",
      "value": " 48.0/48.0 [00:00&lt;00:00, 621B/s]"
     }
    },
    "660c7aa6b96f4836805fdd415ce91b59": {
     "model_module": "@jupyter-widgets/base",
     "model_module_version": "1.2.0",
     "model_name": "LayoutModel",
     "state": {
      "_model_module": "@jupyter-widgets/base",
      "_model_module_version": "1.2.0",
      "_model_name": "LayoutModel",
      "_view_count": null,
      "_view_module": "@jupyter-widgets/base",
      "_view_module_version": "1.2.0",
      "_view_name": "LayoutView",
      "align_content": null,
      "align_items": null,
      "align_self": null,
      "border": null,
      "bottom": null,
      "display": null,
      "flex": null,
      "flex_flow": null,
      "grid_area": null,
      "grid_auto_columns": null,
      "grid_auto_flow": null,
      "grid_auto_rows": null,
      "grid_column": null,
      "grid_gap": null,
      "grid_row": null,
      "grid_template_areas": null,
      "grid_template_columns": null,
      "grid_template_rows": null,
      "height": null,
      "justify_content": null,
      "justify_items": null,
      "left": null,
      "margin": null,
      "max_height": null,
      "max_width": null,
      "min_height": null,
      "min_width": null,
      "object_fit": null,
      "object_position": null,
      "order": null,
      "overflow": null,
      "overflow_x": null,
      "overflow_y": null,
      "padding": null,
      "right": null,
      "top": null,
      "visibility": null,
      "width": null
     }
    },
    "6da990a206f34487a438cbe74474043e": {
     "model_module": "@jupyter-widgets/base",
     "model_module_version": "1.2.0",
     "model_name": "LayoutModel",
     "state": {
      "_model_module": "@jupyter-widgets/base",
      "_model_module_version": "1.2.0",
      "_model_name": "LayoutModel",
      "_view_count": null,
      "_view_module": "@jupyter-widgets/base",
      "_view_module_version": "1.2.0",
      "_view_name": "LayoutView",
      "align_content": null,
      "align_items": null,
      "align_self": null,
      "border": null,
      "bottom": null,
      "display": null,
      "flex": null,
      "flex_flow": null,
      "grid_area": null,
      "grid_auto_columns": null,
      "grid_auto_flow": null,
      "grid_auto_rows": null,
      "grid_column": null,
      "grid_gap": null,
      "grid_row": null,
      "grid_template_areas": null,
      "grid_template_columns": null,
      "grid_template_rows": null,
      "height": null,
      "justify_content": null,
      "justify_items": null,
      "left": null,
      "margin": null,
      "max_height": null,
      "max_width": null,
      "min_height": null,
      "min_width": null,
      "object_fit": null,
      "object_position": null,
      "order": null,
      "overflow": null,
      "overflow_x": null,
      "overflow_y": null,
      "padding": null,
      "right": null,
      "top": null,
      "visibility": null,
      "width": null
     }
    },
    "6e2fc924a2b74521875343c826786b31": {
     "model_module": "@jupyter-widgets/controls",
     "model_module_version": "1.5.0",
     "model_name": "DescriptionStyleModel",
     "state": {
      "_model_module": "@jupyter-widgets/controls",
      "_model_module_version": "1.5.0",
      "_model_name": "DescriptionStyleModel",
      "_view_count": null,
      "_view_module": "@jupyter-widgets/base",
      "_view_module_version": "1.2.0",
      "_view_name": "StyleView",
      "description_width": ""
     }
    },
    "7052e42f456b468fa4f3f01bf0c85784": {
     "model_module": "@jupyter-widgets/controls",
     "model_module_version": "1.5.0",
     "model_name": "HTMLModel",
     "state": {
      "_dom_classes": [],
      "_model_module": "@jupyter-widgets/controls",
      "_model_module_version": "1.5.0",
      "_model_name": "HTMLModel",
      "_view_count": null,
      "_view_module": "@jupyter-widgets/controls",
      "_view_module_version": "1.5.0",
      "_view_name": "HTMLView",
      "description": "",
      "description_tooltip": null,
      "layout": "IPY_MODEL_077b85dad690485e9157354f98497e7c",
      "placeholder": "​",
      "style": "IPY_MODEL_1057bba0204c40a48fac27d5e171c9ba",
      "value": "tokenizer_config.json: 100%"
     }
    },
    "803c5dfccb5f4f6aaf2e62145402cd35": {
     "model_module": "@jupyter-widgets/base",
     "model_module_version": "1.2.0",
     "model_name": "LayoutModel",
     "state": {
      "_model_module": "@jupyter-widgets/base",
      "_model_module_version": "1.2.0",
      "_model_name": "LayoutModel",
      "_view_count": null,
      "_view_module": "@jupyter-widgets/base",
      "_view_module_version": "1.2.0",
      "_view_name": "LayoutView",
      "align_content": null,
      "align_items": null,
      "align_self": null,
      "border": null,
      "bottom": null,
      "display": null,
      "flex": null,
      "flex_flow": null,
      "grid_area": null,
      "grid_auto_columns": null,
      "grid_auto_flow": null,
      "grid_auto_rows": null,
      "grid_column": null,
      "grid_gap": null,
      "grid_row": null,
      "grid_template_areas": null,
      "grid_template_columns": null,
      "grid_template_rows": null,
      "height": null,
      "justify_content": null,
      "justify_items": null,
      "left": null,
      "margin": null,
      "max_height": null,
      "max_width": null,
      "min_height": null,
      "min_width": null,
      "object_fit": null,
      "object_position": null,
      "order": null,
      "overflow": null,
      "overflow_x": null,
      "overflow_y": null,
      "padding": null,
      "right": null,
      "top": null,
      "visibility": null,
      "width": null
     }
    },
    "80a8b22e618d459d9fcc3a05bd9a84aa": {
     "model_module": "@jupyter-widgets/controls",
     "model_module_version": "1.5.0",
     "model_name": "HTMLModel",
     "state": {
      "_dom_classes": [],
      "_model_module": "@jupyter-widgets/controls",
      "_model_module_version": "1.5.0",
      "_model_name": "HTMLModel",
      "_view_count": null,
      "_view_module": "@jupyter-widgets/controls",
      "_view_module_version": "1.5.0",
      "_view_name": "HTMLView",
      "description": "",
      "description_tooltip": null,
      "layout": "IPY_MODEL_660c7aa6b96f4836805fdd415ce91b59",
      "placeholder": "​",
      "style": "IPY_MODEL_13c5fd7deab746cdb88468fb702673d8",
      "value": "tokenizer.json: 100%"
     }
    },
    "904998e280f24792a140d76141381af3": {
     "model_module": "@jupyter-widgets/controls",
     "model_module_version": "1.5.0",
     "model_name": "HTMLModel",
     "state": {
      "_dom_classes": [],
      "_model_module": "@jupyter-widgets/controls",
      "_model_module_version": "1.5.0",
      "_model_name": "HTMLModel",
      "_view_count": null,
      "_view_module": "@jupyter-widgets/controls",
      "_view_module_version": "1.5.0",
      "_view_name": "HTMLView",
      "description": "",
      "description_tooltip": null,
      "layout": "IPY_MODEL_a9b6daf7db5b4d1982b1d6d8520ff1ed",
      "placeholder": "​",
      "style": "IPY_MODEL_32c41ebae8b24e9ba98f7946ab5d464d",
      "value": "vocab.txt: 100%"
     }
    },
    "90965dd2b120452999b63a3091e64a3d": {
     "model_module": "@jupyter-widgets/controls",
     "model_module_version": "1.5.0",
     "model_name": "DescriptionStyleModel",
     "state": {
      "_model_module": "@jupyter-widgets/controls",
      "_model_module_version": "1.5.0",
      "_model_name": "DescriptionStyleModel",
      "_view_count": null,
      "_view_module": "@jupyter-widgets/base",
      "_view_module_version": "1.2.0",
      "_view_name": "StyleView",
      "description_width": ""
     }
    },
    "91de7e7af00c4f83ac1269402a020476": {
     "model_module": "@jupyter-widgets/base",
     "model_module_version": "1.2.0",
     "model_name": "LayoutModel",
     "state": {
      "_model_module": "@jupyter-widgets/base",
      "_model_module_version": "1.2.0",
      "_model_name": "LayoutModel",
      "_view_count": null,
      "_view_module": "@jupyter-widgets/base",
      "_view_module_version": "1.2.0",
      "_view_name": "LayoutView",
      "align_content": null,
      "align_items": null,
      "align_self": null,
      "border": null,
      "bottom": null,
      "display": null,
      "flex": null,
      "flex_flow": null,
      "grid_area": null,
      "grid_auto_columns": null,
      "grid_auto_flow": null,
      "grid_auto_rows": null,
      "grid_column": null,
      "grid_gap": null,
      "grid_row": null,
      "grid_template_areas": null,
      "grid_template_columns": null,
      "grid_template_rows": null,
      "height": null,
      "justify_content": null,
      "justify_items": null,
      "left": null,
      "margin": null,
      "max_height": null,
      "max_width": null,
      "min_height": null,
      "min_width": null,
      "object_fit": null,
      "object_position": null,
      "order": null,
      "overflow": null,
      "overflow_x": null,
      "overflow_y": null,
      "padding": null,
      "right": null,
      "top": null,
      "visibility": null,
      "width": null
     }
    },
    "982a1bd1cfc748e68504b9d19b8cd13a": {
     "model_module": "@jupyter-widgets/base",
     "model_module_version": "1.2.0",
     "model_name": "LayoutModel",
     "state": {
      "_model_module": "@jupyter-widgets/base",
      "_model_module_version": "1.2.0",
      "_model_name": "LayoutModel",
      "_view_count": null,
      "_view_module": "@jupyter-widgets/base",
      "_view_module_version": "1.2.0",
      "_view_name": "LayoutView",
      "align_content": null,
      "align_items": null,
      "align_self": null,
      "border": null,
      "bottom": null,
      "display": null,
      "flex": null,
      "flex_flow": null,
      "grid_area": null,
      "grid_auto_columns": null,
      "grid_auto_flow": null,
      "grid_auto_rows": null,
      "grid_column": null,
      "grid_gap": null,
      "grid_row": null,
      "grid_template_areas": null,
      "grid_template_columns": null,
      "grid_template_rows": null,
      "height": null,
      "justify_content": null,
      "justify_items": null,
      "left": null,
      "margin": null,
      "max_height": null,
      "max_width": null,
      "min_height": null,
      "min_width": null,
      "object_fit": null,
      "object_position": null,
      "order": null,
      "overflow": null,
      "overflow_x": null,
      "overflow_y": null,
      "padding": null,
      "right": null,
      "top": null,
      "visibility": null,
      "width": null
     }
    },
    "9fa3ad6362e74acf9dd537faa7256b47": {
     "model_module": "@jupyter-widgets/controls",
     "model_module_version": "1.5.0",
     "model_name": "DescriptionStyleModel",
     "state": {
      "_model_module": "@jupyter-widgets/controls",
      "_model_module_version": "1.5.0",
      "_model_name": "DescriptionStyleModel",
      "_view_count": null,
      "_view_module": "@jupyter-widgets/base",
      "_view_module_version": "1.2.0",
      "_view_name": "StyleView",
      "description_width": ""
     }
    },
    "a3d3a85abe0a4ecc8026f28ae278b5ac": {
     "model_module": "@jupyter-widgets/base",
     "model_module_version": "1.2.0",
     "model_name": "LayoutModel",
     "state": {
      "_model_module": "@jupyter-widgets/base",
      "_model_module_version": "1.2.0",
      "_model_name": "LayoutModel",
      "_view_count": null,
      "_view_module": "@jupyter-widgets/base",
      "_view_module_version": "1.2.0",
      "_view_name": "LayoutView",
      "align_content": null,
      "align_items": null,
      "align_self": null,
      "border": null,
      "bottom": null,
      "display": null,
      "flex": null,
      "flex_flow": null,
      "grid_area": null,
      "grid_auto_columns": null,
      "grid_auto_flow": null,
      "grid_auto_rows": null,
      "grid_column": null,
      "grid_gap": null,
      "grid_row": null,
      "grid_template_areas": null,
      "grid_template_columns": null,
      "grid_template_rows": null,
      "height": null,
      "justify_content": null,
      "justify_items": null,
      "left": null,
      "margin": null,
      "max_height": null,
      "max_width": null,
      "min_height": null,
      "min_width": null,
      "object_fit": null,
      "object_position": null,
      "order": null,
      "overflow": null,
      "overflow_x": null,
      "overflow_y": null,
      "padding": null,
      "right": null,
      "top": null,
      "visibility": null,
      "width": null
     }
    },
    "a9b6daf7db5b4d1982b1d6d8520ff1ed": {
     "model_module": "@jupyter-widgets/base",
     "model_module_version": "1.2.0",
     "model_name": "LayoutModel",
     "state": {
      "_model_module": "@jupyter-widgets/base",
      "_model_module_version": "1.2.0",
      "_model_name": "LayoutModel",
      "_view_count": null,
      "_view_module": "@jupyter-widgets/base",
      "_view_module_version": "1.2.0",
      "_view_name": "LayoutView",
      "align_content": null,
      "align_items": null,
      "align_self": null,
      "border": null,
      "bottom": null,
      "display": null,
      "flex": null,
      "flex_flow": null,
      "grid_area": null,
      "grid_auto_columns": null,
      "grid_auto_flow": null,
      "grid_auto_rows": null,
      "grid_column": null,
      "grid_gap": null,
      "grid_row": null,
      "grid_template_areas": null,
      "grid_template_columns": null,
      "grid_template_rows": null,
      "height": null,
      "justify_content": null,
      "justify_items": null,
      "left": null,
      "margin": null,
      "max_height": null,
      "max_width": null,
      "min_height": null,
      "min_width": null,
      "object_fit": null,
      "object_position": null,
      "order": null,
      "overflow": null,
      "overflow_x": null,
      "overflow_y": null,
      "padding": null,
      "right": null,
      "top": null,
      "visibility": null,
      "width": null
     }
    },
    "be21afbdd0294949b1f67cf08639d6c9": {
     "model_module": "@jupyter-widgets/controls",
     "model_module_version": "1.5.0",
     "model_name": "ProgressStyleModel",
     "state": {
      "_model_module": "@jupyter-widgets/controls",
      "_model_module_version": "1.5.0",
      "_model_name": "ProgressStyleModel",
      "_view_count": null,
      "_view_module": "@jupyter-widgets/base",
      "_view_module_version": "1.2.0",
      "_view_name": "StyleView",
      "bar_color": null,
      "description_width": ""
     }
    },
    "d0032de52c5c4fd0807776c044045a03": {
     "model_module": "@jupyter-widgets/controls",
     "model_module_version": "1.5.0",
     "model_name": "ProgressStyleModel",
     "state": {
      "_model_module": "@jupyter-widgets/controls",
      "_model_module_version": "1.5.0",
      "_model_name": "ProgressStyleModel",
      "_view_count": null,
      "_view_module": "@jupyter-widgets/base",
      "_view_module_version": "1.2.0",
      "_view_name": "StyleView",
      "bar_color": null,
      "description_width": ""
     }
    },
    "e1ed42de287942f4a40569e5539bae3a": {
     "model_module": "@jupyter-widgets/controls",
     "model_module_version": "1.5.0",
     "model_name": "HTMLModel",
     "state": {
      "_dom_classes": [],
      "_model_module": "@jupyter-widgets/controls",
      "_model_module_version": "1.5.0",
      "_model_name": "HTMLModel",
      "_view_count": null,
      "_view_module": "@jupyter-widgets/controls",
      "_view_module_version": "1.5.0",
      "_view_name": "HTMLView",
      "description": "",
      "description_tooltip": null,
      "layout": "IPY_MODEL_e66c7187adbf4ad899bfb242a730b04c",
      "placeholder": "​",
      "style": "IPY_MODEL_9fa3ad6362e74acf9dd537faa7256b47",
      "value": " 232k/232k [00:00&lt;00:00, 6.31MB/s]"
     }
    },
    "e4aca7104c9f47b5880cc4c3fe8cbb46": {
     "model_module": "@jupyter-widgets/base",
     "model_module_version": "1.2.0",
     "model_name": "LayoutModel",
     "state": {
      "_model_module": "@jupyter-widgets/base",
      "_model_module_version": "1.2.0",
      "_model_name": "LayoutModel",
      "_view_count": null,
      "_view_module": "@jupyter-widgets/base",
      "_view_module_version": "1.2.0",
      "_view_name": "LayoutView",
      "align_content": null,
      "align_items": null,
      "align_self": null,
      "border": null,
      "bottom": null,
      "display": null,
      "flex": null,
      "flex_flow": null,
      "grid_area": null,
      "grid_auto_columns": null,
      "grid_auto_flow": null,
      "grid_auto_rows": null,
      "grid_column": null,
      "grid_gap": null,
      "grid_row": null,
      "grid_template_areas": null,
      "grid_template_columns": null,
      "grid_template_rows": null,
      "height": null,
      "justify_content": null,
      "justify_items": null,
      "left": null,
      "margin": null,
      "max_height": null,
      "max_width": null,
      "min_height": null,
      "min_width": null,
      "object_fit": null,
      "object_position": null,
      "order": null,
      "overflow": null,
      "overflow_x": null,
      "overflow_y": null,
      "padding": null,
      "right": null,
      "top": null,
      "visibility": null,
      "width": null
     }
    },
    "e53fdf0043f74fdeb8cbad21478485bb": {
     "model_module": "@jupyter-widgets/controls",
     "model_module_version": "1.5.0",
     "model_name": "FloatProgressModel",
     "state": {
      "_dom_classes": [],
      "_model_module": "@jupyter-widgets/controls",
      "_model_module_version": "1.5.0",
      "_model_name": "FloatProgressModel",
      "_view_count": null,
      "_view_module": "@jupyter-widgets/controls",
      "_view_module_version": "1.5.0",
      "_view_name": "ProgressView",
      "bar_style": "success",
      "description": "",
      "description_tooltip": null,
      "layout": "IPY_MODEL_803c5dfccb5f4f6aaf2e62145402cd35",
      "max": 48,
      "min": 0,
      "orientation": "horizontal",
      "style": "IPY_MODEL_d0032de52c5c4fd0807776c044045a03",
      "value": 48
     }
    },
    "e66c7187adbf4ad899bfb242a730b04c": {
     "model_module": "@jupyter-widgets/base",
     "model_module_version": "1.2.0",
     "model_name": "LayoutModel",
     "state": {
      "_model_module": "@jupyter-widgets/base",
      "_model_module_version": "1.2.0",
      "_model_name": "LayoutModel",
      "_view_count": null,
      "_view_module": "@jupyter-widgets/base",
      "_view_module_version": "1.2.0",
      "_view_name": "LayoutView",
      "align_content": null,
      "align_items": null,
      "align_self": null,
      "border": null,
      "bottom": null,
      "display": null,
      "flex": null,
      "flex_flow": null,
      "grid_area": null,
      "grid_auto_columns": null,
      "grid_auto_flow": null,
      "grid_auto_rows": null,
      "grid_column": null,
      "grid_gap": null,
      "grid_row": null,
      "grid_template_areas": null,
      "grid_template_columns": null,
      "grid_template_rows": null,
      "height": null,
      "justify_content": null,
      "justify_items": null,
      "left": null,
      "margin": null,
      "max_height": null,
      "max_width": null,
      "min_height": null,
      "min_width": null,
      "object_fit": null,
      "object_position": null,
      "order": null,
      "overflow": null,
      "overflow_x": null,
      "overflow_y": null,
      "padding": null,
      "right": null,
      "top": null,
      "visibility": null,
      "width": null
     }
    },
    "f6018b8514714a79a9c377bf612ecd0b": {
     "model_module": "@jupyter-widgets/controls",
     "model_module_version": "1.5.0",
     "model_name": "HBoxModel",
     "state": {
      "_dom_classes": [],
      "_model_module": "@jupyter-widgets/controls",
      "_model_module_version": "1.5.0",
      "_model_name": "HBoxModel",
      "_view_count": null,
      "_view_module": "@jupyter-widgets/controls",
      "_view_module_version": "1.5.0",
      "_view_name": "HBoxView",
      "box_style": "",
      "children": [
       "IPY_MODEL_80a8b22e618d459d9fcc3a05bd9a84aa",
       "IPY_MODEL_21e4e10444e84b33a2c4b8e0a95950aa",
       "IPY_MODEL_5047912cd9e845c998ef6f2895a97942"
      ],
      "layout": "IPY_MODEL_40588f0e8d734f838d0a794a914d1fa9"
     }
    }
   }
  }
 },
 "nbformat": 4,
 "nbformat_minor": 5
}
